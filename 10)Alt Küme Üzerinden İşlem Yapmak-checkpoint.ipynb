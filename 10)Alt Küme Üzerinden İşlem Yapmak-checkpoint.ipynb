{
 "cells": [
  {
   "cell_type": "markdown",
   "metadata": {},
   "source": [
    "# Alt Küme Üzerinden İşlem Yapmak"
   ]
  },
  {
   "cell_type": "markdown",
   "metadata": {},
   "source": [
    "Bazen alt küme elemanları ile çalışırken, bazı değişiklikler yapmak zorunda kalabiliriz.\n",
    "Yaptığımız değişikler ana dizide kalıcı değişikliğe neden olabilir.\n",
    "Kalıcı değişiklikler bazen işimize yararken bazen de işimizi zorlaştırır.\n",
    "Kalıcılığın önüne geçmek için <b>copy()</b> metodunu kullanabiliriz "
   ]
  },
  {
   "cell_type": "code",
   "execution_count": 1,
   "metadata": {},
   "outputs": [],
   "source": [
    "import numpy as np"
   ]
  },
  {
   "cell_type": "markdown",
   "metadata": {},
   "source": [
    "#### Kalıcı Değişiklik Olan İşlemler:\n",
    "\n",
    "<br>Oluşturduğumuz a dizisini a[0:3,0:2] şeklinde indeksleyip bunu bir değişkene atayalım.<br>\n",
    "Daha sonra atadığımız değişkenin bazı indekslerini değiştirelim.<br>\n",
    "Ve en sonunda başta oluşturduğumuz a dizisini ekrana bastırıp değişimi gözlemleyelim."
   ]
  },
  {
   "cell_type": "code",
   "execution_count": 8,
   "metadata": {},
   "outputs": [
    {
     "data": {
      "text/plain": [
       "array([[4, 8, 3, 3, 3],\n",
       "       [2, 8, 4, 6, 0],\n",
       "       [5, 6, 4, 3, 0],\n",
       "       [1, 0, 4, 5, 3],\n",
       "       [0, 8, 8, 9, 3]])"
      ]
     },
     "execution_count": 8,
     "metadata": {},
     "output_type": "execute_result"
    }
   ],
   "source": [
    "a = np.random.randint(10, size= (5,5))\n",
    "a"
   ]
  },
  {
   "cell_type": "code",
   "execution_count": 9,
   "metadata": {},
   "outputs": [
    {
     "data": {
      "text/plain": [
       "array([[4, 8],\n",
       "       [2, 8],\n",
       "       [5, 6]])"
      ]
     },
     "execution_count": 9,
     "metadata": {},
     "output_type": "execute_result"
    }
   ],
   "source": [
    "a_degisken=a[0:3,0:2]\n",
    "a_degisken"
   ]
  },
  {
   "cell_type": "code",
   "execution_count": 10,
   "metadata": {},
   "outputs": [
    {
     "data": {
      "text/plain": [
       "array([[ 4,  8],\n",
       "       [ 2,  8],\n",
       "       [ 5, 54]])"
      ]
     },
     "execution_count": 10,
     "metadata": {},
     "output_type": "execute_result"
    }
   ],
   "source": [
    "a_degisken[2,1]=54\n",
    "a_degisken"
   ]
  },
  {
   "cell_type": "code",
   "execution_count": 11,
   "metadata": {},
   "outputs": [
    {
     "data": {
      "text/plain": [
       "array([[ 4,  8,  3,  3,  3],\n",
       "       [ 2,  8,  4,  6,  0],\n",
       "       [ 5, 54,  4,  3,  0],\n",
       "       [ 1,  0,  4,  5,  3],\n",
       "       [ 0,  8,  8,  9,  3]])"
      ]
     },
     "execution_count": 11,
     "metadata": {},
     "output_type": "execute_result"
    }
   ],
   "source": [
    "a \n",
    "#Görüldüğü üzere yaptığımız değişiklik ana diziyi etkiledi."
   ]
  },
  {
   "cell_type": "markdown",
   "metadata": {},
   "source": [
    "#### Kalıcı Değişiklik Olmayan İşlemler:\n",
    "\n",
    "<br>Oluşturduğumuz m dizisini m[0:3,0:2] şeklinde indeksleyip bunu bir değişkene atayalım.<br>\n",
    "Daha sonra atadığımız değişkenin bazı indekslerini değiştirelim.(Ama bu işlemi yaparken **copy()** metodunu kullanalım<br>\n",
    "Ve en sonunda başta oluşturduğumuz a dizisini ekrana bastırıp değişim olup olmadığını gözlemleyelim.\n"
   ]
  },
  {
   "cell_type": "code",
   "execution_count": 12,
   "metadata": {},
   "outputs": [
    {
     "data": {
      "text/plain": [
       "array([[3, 5, 6, 3, 5],\n",
       "       [0, 3, 0, 4, 0],\n",
       "       [8, 6, 7, 0, 4],\n",
       "       [5, 1, 1, 5, 6],\n",
       "       [4, 0, 3, 5, 8]])"
      ]
     },
     "execution_count": 12,
     "metadata": {},
     "output_type": "execute_result"
    }
   ],
   "source": [
    "m = np.random.randint(10, size= (5,5))\n",
    "m"
   ]
  },
  {
   "cell_type": "code",
   "execution_count": 13,
   "metadata": {},
   "outputs": [
    {
     "data": {
      "text/plain": [
       "array([[3, 5],\n",
       "       [0, 3],\n",
       "       [8, 6]])"
      ]
     },
     "execution_count": 13,
     "metadata": {},
     "output_type": "execute_result"
    }
   ],
   "source": [
    "m_degisken = m[0:3,0:2].copy()\n",
    "m_degisken"
   ]
  },
  {
   "cell_type": "code",
   "execution_count": 15,
   "metadata": {},
   "outputs": [
    {
     "data": {
      "text/plain": [
       "array([[ 3,  5],\n",
       "       [11,  3],\n",
       "       [ 8,  6]])"
      ]
     },
     "execution_count": 15,
     "metadata": {},
     "output_type": "execute_result"
    }
   ],
   "source": [
    "m_degisken[1,0]=11\n",
    "m_degisken"
   ]
  },
  {
   "cell_type": "code",
   "execution_count": 18,
   "metadata": {},
   "outputs": [
    {
     "data": {
      "text/plain": [
       "array([[3, 5, 6, 3, 5],\n",
       "       [0, 3, 0, 4, 0],\n",
       "       [8, 6, 7, 0, 4],\n",
       "       [5, 1, 1, 5, 6],\n",
       "       [4, 0, 3, 5, 8]])"
      ]
     },
     "execution_count": 18,
     "metadata": {},
     "output_type": "execute_result"
    }
   ],
   "source": [
    "m # \"copy()\" metodunu kullandığımız için hiç bir değişiklik olmadı."
   ]
  },
  {
   "cell_type": "code",
   "execution_count": null,
   "metadata": {},
   "outputs": [],
   "source": []
  }
 ],
 "metadata": {
  "kernelspec": {
   "display_name": "Python 3",
   "language": "python",
   "name": "python3"
  },
  "language_info": {
   "codemirror_mode": {
    "name": "ipython",
    "version": 3
   },
   "file_extension": ".py",
   "mimetype": "text/x-python",
   "name": "python",
   "nbconvert_exporter": "python",
   "pygments_lexer": "ipython3",
   "version": "3.7.6"
  }
 },
 "nbformat": 4,
 "nbformat_minor": 4
}
